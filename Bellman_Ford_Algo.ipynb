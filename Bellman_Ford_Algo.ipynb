{
  "nbformat": 4,
  "nbformat_minor": 0,
  "metadata": {
    "colab": {
      "provenance": [],
      "authorship_tag": "ABX9TyNeURBPA7hOLgUkq3jrvnQZ",
      "include_colab_link": true
    },
    "kernelspec": {
      "name": "python3",
      "display_name": "Python 3"
    },
    "language_info": {
      "name": "python"
    }
  },
  "cells": [
    {
      "cell_type": "markdown",
      "metadata": {
        "id": "view-in-github",
        "colab_type": "text"
      },
      "source": [
        "<a href=\"https://colab.research.google.com/github/Codiv02/Stw2024/blob/main/Bellman_Ford_Algo.ipynb\" target=\"_parent\"><img src=\"https://colab.research.google.com/assets/colab-badge.svg\" alt=\"Open In Colab\"/></a>"
      ]
    },
    {
      "cell_type": "code",
      "execution_count": 12,
      "metadata": {
        "colab": {
          "base_uri": "https://localhost:8080/"
        },
        "id": "Vz5F9a0JT7Li",
        "outputId": "be533dce-7d1f-4609-9285-dd3be29c4a85"
      },
      "outputs": [
        {
          "output_type": "stream",
          "name": "stdout",
          "text": [
            "{'A': 0, 'B': -1, 'C': 2, 'D': -2, 'E': 1}\n"
          ]
        }
      ],
      "source": [
        "def bellman_ford(graph,source):\n",
        "  distances={vertex:float('inf') for vertex in graph}\n",
        "  distances[source]=0\n",
        "\n",
        "  for i in range(len(graph)-1):\n",
        "    for u in graph:\n",
        "      for v,weight in graph[u].items():\n",
        "        if distances[u]!=float('inf') and distances[u]+weight<distances[v]:\n",
        "          distances[v]=distances[u]+weight\n",
        "  for u in graph:\n",
        "    for v,weight in graph[u].items():\n",
        "      if distances[u]!=float('inf') and distances[u]+weight<distances[v]:\n",
        "        raise ValueError(\"Graph contains negative wight cycle\")\n",
        "  return distances\n",
        "graph={\n",
        "    'A':{'B':-1,'C':4},\n",
        "    'B':{'C':3,'D':2,'E':2},\n",
        "    'C':{},\n",
        "    'D':{'B':1,'C':5},\n",
        "    'E':{'D':-3}\n",
        "}\n",
        "source='A'\n",
        "\n",
        "print(bellman_ford(graph,source))"
      ]
    },
    {
      "cell_type": "code",
      "source": [
        "distance={vertex:float('inf') for vertex in range(5)}\n",
        "print(distance)\n"
      ],
      "metadata": {
        "colab": {
          "base_uri": "https://localhost:8080/"
        },
        "id": "zFCs2mHhYMBH",
        "outputId": "cdab1ecf-3759-4d99-d3e0-b2debf469b47"
      },
      "execution_count": null,
      "outputs": [
        {
          "output_type": "stream",
          "name": "stdout",
          "text": [
            "{0: inf, 1: inf, 2: inf, 3: inf, 4: inf}\n"
          ]
        }
      ]
    }
  ]
}