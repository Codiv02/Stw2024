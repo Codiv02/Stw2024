{
  "nbformat": 4,
  "nbformat_minor": 0,
  "metadata": {
    "colab": {
      "provenance": [],
      "authorship_tag": "ABX9TyOr4eRigbcvUxQBmxTE49lp",
      "include_colab_link": true
    },
    "kernelspec": {
      "name": "python3",
      "display_name": "Python 3"
    },
    "language_info": {
      "name": "python"
    }
  },
  "cells": [
    {
      "cell_type": "markdown",
      "metadata": {
        "id": "view-in-github",
        "colab_type": "text"
      },
      "source": [
        "<a href=\"https://colab.research.google.com/github/Codiv02/Stw2024/blob/main/Dijkstra's_Algo_(25_June_24).ipynb\" target=\"_parent\"><img src=\"https://colab.research.google.com/assets/colab-badge.svg\" alt=\"Open In Colab\"/></a>"
      ]
    },
    {
      "cell_type": "markdown",
      "source": [],
      "metadata": {
        "id": "RjYwrtAYXSaP"
      }
    },
    {
      "cell_type": "code",
      "source": [
        "def DYKEstriz(Adj_mat):\n",
        "  vis=[]\n",
        "  pq=[[]]\n",
        "\n",
        "\n",
        "\n",
        "DYKEstriz()\n",
        "G=[[0,4,5,0,0,0],\n",
        "   []]"
      ],
      "metadata": {
        "id": "CtRSYTYwXTvc"
      },
      "execution_count": null,
      "outputs": []
    },
    {
      "cell_type": "code",
      "source": [
        "l=[((0,1),4),((0,2),5)]\n",
        "print(l[0][0][1])\n",
        "arr=[]\n",
        "l=[]\n"
      ],
      "metadata": {
        "colab": {
          "base_uri": "https://localhost:8080/"
        },
        "id": "Qnm5kiHhrWVh",
        "outputId": "b37d67ef-4560-42ad-8efc-6c87ac8cf2b0"
      },
      "execution_count": null,
      "outputs": [
        {
          "output_type": "stream",
          "name": "stdout",
          "text": [
            "1\n"
          ]
        }
      ]
    },
    {
      "cell_type": "code",
      "source": [
        "def dijkstra(adj_matrix, source):\n",
        "    num_vertices = len(adj_matrix)\n",
        "\n",
        "    distances = [float('inf')] * num_vertices\n",
        "    distances[source] = 0\n",
        "\n",
        "    visited = [False] * num_vertices\n",
        "\n",
        "    for _ in range(num_vertices):\n",
        "        min_distance = float('inf')\n",
        "        min_index = -1\n",
        "\n",
        "        for v in range(num_vertices):\n",
        "            if not visited[v] and distances[v] < min_distance:\n",
        "                min_distance = distances[v]\n",
        "                min_index = v\n",
        "\n",
        "        if min_index == -1:\n",
        "            break\n",
        "\n",
        "        visited[min_index] = True\n",
        "\n",
        "        for v in range(num_vertices):\n",
        "            if (not visited[v]) and (adj_matrix[min_index][v] != 0) and (distances[min_index] + adj_matrix[min_index][v] < distances[v]):\n",
        "                distances[v] = distances[min_index] + adj_matrix[min_index][v]\n",
        "\n",
        "    return distances\n",
        "\n",
        "\n",
        "if __name__ == \"__main__\":\n",
        "    adj_matrix = [\n",
        "        [0, 4, 5, 0, 0, 0, 0, 0, 0, 0, 0, 0],\n",
        "        [4, 0, 0, 8, 6, 0, 0, 0, 0, 0, 0, 0],\n",
        "        [5, 0, 0, 0, 0, 3, 7, 0, 0, 0, 0, 0],\n",
        "        [0, 8, 0, 0, 0, 0, 0, 5, 0, 0, 0, 0],\n",
        "        [0, 6, 0, 0, 0, 0, 0, 0, 4, 0, 0, 0],\n",
        "        [0, 0, 3, 0, 0, 0, 0, 0, 6, 0, 0, 0],\n",
        "        [0, 0, 7, 0, 0, 0, 0, 0, 0, 0, 5, 0],\n",
        "        [0, 0, 0, 5, 0, 0, 0, 0, 0, 8, 0, 7],\n",
        "        [0, 0, 0, 0, 4, 6, 0, 0, 0, 3, 5, 0],\n",
        "        [0, 0, 0, 0, 0, 0, 0, 8, 3, 0, 0, 0],\n",
        "        [0, 0, 0, 0, 0, 0, 5, 0, 5, 0, 0, 0],\n",
        "        [0, 0, 0, 0, 0, 0, 0, 7, 0, 0, 0, 0]\n",
        "    ]\n",
        "\n",
        "    source_vertex = 0\n",
        "    shortest_distances = dijkstra(adj_matrix, source_vertex)\n",
        "\n",
        "    print(f\"Shortest distances from vertex {source_vertex}:\")\n",
        "    for i, distance in enumerate(shortest_distances):\n",
        "        print(f\"To vertex {i}: {distance}\")"
      ],
      "metadata": {
        "colab": {
          "base_uri": "https://localhost:8080/"
        },
        "id": "q3OHdHB-Mk8m",
        "outputId": "7464f848-f518-49ec-c38c-54aa1bd95421"
      },
      "execution_count": null,
      "outputs": [
        {
          "output_type": "stream",
          "name": "stdout",
          "text": [
            "Shortest distances from vertex 0:\n",
            "To vertex 0: 0\n",
            "To vertex 1: 4\n",
            "To vertex 2: 5\n",
            "To vertex 3: 12\n",
            "To vertex 4: 10\n",
            "To vertex 5: 8\n",
            "To vertex 6: 12\n",
            "To vertex 7: 17\n",
            "To vertex 8: 14\n",
            "To vertex 9: 17\n",
            "To vertex 10: 17\n",
            "To vertex 11: 24\n"
          ]
        }
      ]
    },
    {
      "cell_type": "code",
      "source": [],
      "metadata": {
        "id": "TYRnNjJafQac"
      },
      "execution_count": null,
      "outputs": []
    },
    {
      "cell_type": "code",
      "source": [
        "census={1:{'state':'uttar pradesh','tpop':199812341,'rpop':155111022,'upop':44701319,'area(km**2)':240928},\n",
        "        2:{'state':'maharashtra','tpop':112374333,'rpop':61545441,'upop':50828892,'area(km**2)':307713},\n",
        "        3:{'state':'bihar','tpop':104099452,'rpop':92075028,'upop':12024424,'area(km**2)':94163},\n",
        "        4:{'state':'west bengal','tpop':91276115,'rpop':62213676,'upop':29062439,'area(km**2)':88752},\n",
        "        5:{'state':'delhi','tpop':16787941,'rpop':944727,'upop':15843214,'area(km**2)':1484}}\n",
        "\n",
        "for m in range(9):\n",
        "    print('TOTAL POPULATION OF A STATE')\n",
        "    print('RURAL POPULATION OF A STATE')\n",
        "    print('URBAN POPULATION OF A STATE')\n",
        "    print('AREA OF A STATE')\n",
        "    o=str(input(\"Enter what you want to see from given parameters :\"))\n",
        "\n",
        "    if o=='AREA OF A STATE':\n",
        "        for x in census.values() :\n",
        "          print(x['state'])\n",
        "        for i in range(30):\n",
        "          a=str(input(\"Enter state from given states to get its Area :\"))\n",
        "          for z in census.values() :\n",
        "           if z['state']==a:\n",
        "             print(z['area(km**2)'],'kmsq.')\n",
        "          l=str(input(\"Do you want to see another state's area_y/n :\"))\n",
        "          if l=='y':\n",
        "              continue\n",
        "          else:\n",
        "               break\n",
        "\n",
        "    elif o=='TOTAL POPULATION OF A STATE':\n",
        "        for x in census.values() :\n",
        "          print(x['state'])\n",
        "        for i in range(30):\n",
        "            a=str(input(\"Enter state from given states to get its Total population :\"))\n",
        "            for z in census.values() :\n",
        "                if z['state']==a:\n",
        "                    print(z['tpop'])\n",
        "                    l=str(input(\"Do you want to see another state's Total population_y/n :\"))\n",
        "            if l=='yAREA OF A STATEOPULATION OF A STATE':\n",
        "        for x in census.values():\n",
        "            print(x['state'])\n",
        "        for i in range(30):\n",
        "            a=str(input(\"Enter state from given states to get its Rural population :\"))\n",
        "            for z in census.values():\n",
        "                if z['state']==a:\n",
        "                    print(z['rpop'])\n",
        "                    l=str(input(\"Do you want to see another states Rural population_y/n :\"))\n",
        "            if l=='y':\n",
        "               continAREA OF A STATEue\n",
        "            else:\n",
        "               break\n",
        "    elif o=='URBAN POPULATION OF A STATE':\n",
        "        for x Toh chanting karo aur badiya ho jaogestr(input(\"Enter state from given states to get its Urban population :\"))\n",
        "           Toh chanting karo aur badiya ho jaoge for z in census.values():\n",
        "              if z['state']==a:\n",
        "                  print(z['upop'])\n",
        "            l=str(input(\"Do you want to see another state's Urban popularion_y/n :\"))\n",
        "            if l=='y':\n",
        "              contAREA OF A STATE\n",
        "        continue\n",
        "    else:\n",
        "        break\n",
        "print('************************THANK YOU******************************')"
      ],
      "metadata": {
        "colab": {
          "base_uri": "https://localhost:8080/"
        },
        "id": "r_tq6EtQj1KN",
        "outputId": "e0c628d0-ccc4-4acf-e59c-abfd819a6a6c"
      },
      "execution_count": null,
      "outputs": [
        {
          "output_type": "stream",
          "name": "stdout",
          "text": [
            "TOTAL POPULATION OF A STATE\n",
            "RURAL POPULATION OF A STATE\n",
            "URBAN POPULATION OF A STATE\n",
            "AREA OF A STATE\n",
            "Enter what you want to see from given parameters :AREA OF A STATE\n",
            "uttar pradesh\n",
            "maharashtra\n",
            "bihar\n",
            "west bengal\n",
            "delhi\n",
            "Enter state from given states to get its Area :delhi\n",
            "1484 kmsq.\n",
            "Do you want to see another state's area_y/n :y\n",
            "Enter state from given states to get its Area :west bengal\n",
            "88752 kmsq.\n",
            "Do you want to see another state's area_y/n :n\n",
            "*******************************************************************\n",
            "*******************************************************************\n",
            "DO YOU WANT TO SEE ANOTHER PARAMETER_y/n :n\n",
            "************************THANK YOU******************************\n"
          ]
        }
      ]
    },
    {
      "cell_type": "code",
      "source": [
        "import random\n",
        "x=random.randint(0,2)\n",
        "if x==1:\n",
        "  st=str(input(\"shreshth Pr Kaise ho aap\"))\n",
        "  if st=='Badiyaa':\n",
        "    print(\"Toh chanting karo aur badiya ho jaoge\")\n",
        "  elif st==\"ghatiya\":\n",
        "    print(\"Go to your Mentor and have a talk\")\n",
        "\n",
        "elif x==3:\n",
        "  print(\"AJGAR JINDABAAD\")"
      ],
      "metadata": {
        "colab": {
          "base_uri": "https://localhost:8080/"
        },
        "id": "E_3v6nVlomh-",
        "outputId": "a93e0ab1-ebc5-4ebc-a945-ffc941cb19c6"
      },
      "execution_count": null,
      "outputs": [
        {
          "output_type": "stream",
          "name": "stdout",
          "text": [
            "shreshth Pr Kaise ho aapghatiya\n",
            "Go to your Mentor and haqve a talk\n"
          ]
        }
      ]
    },
    {
      "cell_type": "code",
      "source": [],
      "metadata": {
        "id": "in0tywVrpCZR"
      },
      "execution_count": null,
      "outputs": []
    }
  ]
}