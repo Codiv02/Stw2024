{
  "nbformat": 4,
  "nbformat_minor": 0,
  "metadata": {
    "colab": {
      "provenance": [],
      "authorship_tag": "ABX9TyOiQtAXljA5gb4XTU60sepS",
      "include_colab_link": true
    },
    "kernelspec": {
      "name": "python3",
      "display_name": "Python 3"
    },
    "language_info": {
      "name": "python"
    }
  },
  "cells": [
    {
      "cell_type": "markdown",
      "metadata": {
        "id": "view-in-github",
        "colab_type": "text"
      },
      "source": [
        "<a href=\"https://colab.research.google.com/github/Codiv02/Stw2024/blob/main/123.ipynb\" target=\"_parent\"><img src=\"https://colab.research.google.com/assets/colab-badge.svg\" alt=\"Open In Colab\"/></a>"
      ]
    },
    {
      "cell_type": "code",
      "source": [
        "def bellman_ford(graph,source):\n",
        "  distances={vertex:float('inf') for vertex in graph}\n",
        "  distances[source]=0\n",
        "\n",
        "  for i in range(len(graph)-1):\n",
        "    for u in graph:\n",
        "      for v,weight in graph[u].items():\n",
        "        if distances[u]!=float('inf') and distances[u]+weight<distances[v]:\n",
        "          distances[v]=distances[u]+weight\n",
        "  for u in graph:\n",
        "    for v,weight in graph[u].items():\n",
        "      if distances[u]!=float('inf') and distances[u]+weight<distances[v]:\n",
        "        raise ValueError(\"Graph contains negative wight cycle\")\n",
        "  return distances\n",
        "graph={\n",
        "    'A':{'B':-1,'C':4},\n",
        "    'B':{'C':3,'D':2,'E':2},\n",
        "    'C':{},\n",
        "    'D':{'B':1,'C':5},\n",
        "    'E':{'D':-3}\n",
        "}\n",
        "source='A'\n",
        "\n",
        "print(bellman_ford(graph,source))"
      ],
      "metadata": {
        "id": "Nrl52Rbour8S"
      },
      "execution_count": null,
      "outputs": []
    }
  ]
}